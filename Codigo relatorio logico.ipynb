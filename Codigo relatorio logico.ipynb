{
  "nbformat": 4,
  "nbformat_minor": 0,
  "metadata": {
    "colab": {
      "provenance": [],
      "authorship_tag": "ABX9TyNjrmMSNhBPOf5cFlJ9xrwn",
      "include_colab_link": true
    },
    "kernelspec": {
      "name": "python3",
      "display_name": "Python 3"
    },
    "language_info": {
      "name": "python"
    }
  },
  "cells": [
    {
      "cell_type": "markdown",
      "metadata": {
        "id": "view-in-github",
        "colab_type": "text"
      },
      "source": [
        "<a href=\"https://colab.research.google.com/github/AlessandraBJsilva/AlessandraBJsilva/blob/main/Codigo%20relatorio%20logico.ipynb\" target=\"_parent\"><img src=\"https://colab.research.google.com/assets/colab-badge.svg\" alt=\"Open In Colab\"/></a>"
      ]
    },
    {
      "cell_type": "code",
      "execution_count": 2,
      "metadata": {
        "colab": {
          "base_uri": "https://localhost:8080/"
        },
        "id": "vyfis1lrIk2S",
        "outputId": "883ace37-e210-4ffd-ca0d-d8f656943ba0"
      },
      "outputs": [
        {
          "output_type": "stream",
          "name": "stdout",
          "text": [
            "Premissa 1: Todos os homens são mortais -> True\n",
            "Premissa 2: Elias é homem -> True\n",
            "Conclusão: Elias é mortal -> True\n",
            "\n",
            "**Resultado:** A conclusão 'Elias é mortal' é **logicamente garantida** com base nas premissas. Este é um exemplo de argumento dedutivo válido (silogismo).\n"
          ]
        }
      ],
      "source": [
        "# --- Exemplo de Silogismo Dedutivo em Python ---\n",
        "\n",
        "# Definindo as premissas como variáveis booleanas (True/False)\n",
        "# Para o propósito da demonstração, assumimos que estas premissas são verdadeiras.\n",
        "# Na lógica, a validade do argumento se preocupa com a forma, e não necessariamente\n",
        "# com a veracidade das premissas no mundo real, mas sim com a garantia de que,\n",
        "# se as premissas forem verdadeiras, a conclusão também o será [10-12].\n",
        "\n",
        "premisa_todos_homens_sao_mortais = True  # Representa \"Todos os homens são mortais\"\n",
        "premisa_elias_e_homem = True             # Representa \"Elias é homem\"\n",
        "\n",
        "# Aplicando o raciocínio dedutivo:\n",
        "# Se a Premissa 1 E a Premissa 2 forem verdadeiras,\n",
        "# então a Conclusão é logicamente verdadeira.\n",
        "# Usamos o operador lógico 'and' (conjunção), que é fundamental na lógica e programação [13, 14].\n",
        "\n",
        "if premisa_todos_homens_sao_mortais and premisa_elias_e_homem:\n",
        "    conclusao_elias_e_mortal = True\n",
        "else:\n",
        "    # Se uma das premissas (ou ambas) forem falsas, a conclusão não seria garantida como verdadeira\n",
        "    conclusao_elias_e_mortal = False\n",
        "\n",
        "# Exibindo as premissas e a conclusão\n",
        "print(f\"Premissa 1: Todos os homens são mortais -> {premisa_todos_homens_sao_mortais}\")\n",
        "print(f\"Premissa 2: Elias é homem -> {premisa_elias_e_homem}\")\n",
        "print(f\"Conclusão: Elias é mortal -> {conclusao_elias_e_mortal}\")\n",
        "\n",
        "# Mensagem final baseada no resultado\n",
        "if conclusao_elias_e_mortal:\n",
        "    print(\"\\n**Resultado:** A conclusão 'Elias é mortal' é **logicamente garantida** com base nas premissas. Este é um exemplo de argumento dedutivo válido (silogismo).\")\n",
        "else:\n",
        "    print(\"\\n**Resultado:** A conclusão não é logicamente garantida. Isso ocorreria se uma ou ambas as premissas fossem falsas.\")\n"
      ]
    }
  ]
}